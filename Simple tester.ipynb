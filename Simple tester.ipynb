{
 "cells": [
  {
   "cell_type": "code",
   "execution_count": 1,
   "metadata": {},
   "outputs": [],
   "source": [
    "from chessbot.botok import ChessBotOK\n",
    "import chess\n",
    "\n",
    "from chessbot.scorers import SimpleScorer, ComplexScorer\n",
    "from chessbot.minimaxers import RegularMinimaxer, PriorityMinimaxer\n",
    "from chessbot.general_bot import SimpleBot, AdaptiveBot"
   ]
  },
  {
   "cell_type": "code",
   "execution_count": null,
   "metadata": {},
   "outputs": [],
   "source": []
  },
  {
   "cell_type": "code",
   "execution_count": 2,
   "metadata": {},
   "outputs": [],
   "source": [
    "#bot = ChessBotOK(\"ok\", {\"depth\": 2})\n",
    "bot = AdaptiveBot(\"Adaptive\", ComplexScorer, PriorityMinimaxer, 2, 2000, 3, 0)"
   ]
  },
  {
   "cell_type": "code",
   "execution_count": 3,
   "metadata": {},
   "outputs": [],
   "source": [
    "board = chess.Board('1nk5/8/2p4p/8/3p4/3B4/7K/8 w KQkq - 0 5')"
   ]
  },
  {
   "cell_type": "code",
   "execution_count": 4,
   "metadata": {},
   "outputs": [
    {
     "name": "stdout",
     "output_type": "stream",
     "text": [
      ". n k . . . . .\n",
      ". . . . . . . .\n",
      ". . p . . . . p\n",
      ". . . . . . . .\n",
      ". . . p . . . .\n",
      ". . . B . . . .\n",
      ". . . . . . . K\n",
      ". . . . . . . .\n"
     ]
    }
   ],
   "source": [
    "print(board)"
   ]
  },
  {
   "cell_type": "code",
   "execution_count": 5,
   "metadata": {},
   "outputs": [
    {
     "data": {
      "text/plain": [
       "-300"
      ]
     },
     "execution_count": 5,
     "metadata": {},
     "output_type": "execute_result"
    }
   ],
   "source": [
    "bot.scorer.score(board)"
   ]
  },
  {
   "cell_type": "code",
   "execution_count": 6,
   "metadata": {
    "scrolled": true
   },
   "outputs": [
    {
     "name": "stdout",
     "output_type": "stream",
     "text": [
      "esitmated scorings 1764.0\n",
      "increasing depth\n",
      ". n k . . . . .\n",
      ". . . . . . . .\n",
      ". . p . . . . p\n",
      ". . . . . . . .\n",
      ". . . p . . . .\n",
      ". . . B . . K .\n",
      ". . . . . . . .\n",
      ". . . . . . . .\n",
      "42\n"
     ]
    }
   ],
   "source": [
    "board.push(bot.move(board))\n",
    "print(board)\n",
    "print(bot.scorer.get_scorings())"
   ]
  },
  {
   "cell_type": "code",
   "execution_count": 7,
   "metadata": {},
   "outputs": [
    {
     "name": "stdout",
     "output_type": "stream",
     "text": [
      "esitmated scorings 5475.159152466479\n",
      ". . k . . . . .\n",
      ". . . n . . . .\n",
      ". . p . . . . p\n",
      ". . . . . . . .\n",
      ". . . p . . . .\n",
      ". . . B . . K .\n",
      ". . . . . . . .\n",
      ". . . . . . . .\n",
      "175\n"
     ]
    }
   ],
   "source": [
    "board.push(bot.move(board))\n",
    "print(board)\n",
    "print(bot.scorer.get_scorings())"
   ]
  },
  {
   "cell_type": "code",
   "execution_count": 8,
   "metadata": {},
   "outputs": [
    {
     "name": "stdout",
     "output_type": "stream",
     "text": [
      "esitmated scorings 8696.676187263573\n",
      ". . k . . . . .\n",
      ". . . n . . . .\n",
      ". . p . . . . p\n",
      ". . . . . . . .\n",
      ". . . p B . . .\n",
      ". . . . . . K .\n",
      ". . . . . . . .\n",
      ". . . . . . . .\n",
      "231\n"
     ]
    }
   ],
   "source": [
    "board.push(bot.move(board))\n",
    "print(board)\n",
    "print(bot.scorer.get_scorings())"
   ]
  },
  {
   "cell_type": "code",
   "execution_count": 9,
   "metadata": {},
   "outputs": [
    {
     "name": "stdout",
     "output_type": "stream",
     "text": [
      "esitmated scorings 7069.417202796359\n",
      ". . k . . . . .\n",
      ". . . . . . . .\n",
      ". . p . . . . p\n",
      ". . n . . . . .\n",
      ". . . p B . . .\n",
      ". . . . . . K .\n",
      ". . . . . . . .\n",
      ". . . . . . . .\n",
      "204\n"
     ]
    }
   ],
   "source": [
    "board.push(bot.move(board))\n",
    "print(board)\n",
    "print(bot.scorer.get_scorings())"
   ]
  },
  {
   "cell_type": "code",
   "execution_count": 10,
   "metadata": {
    "scrolled": true
   },
   "outputs": [
    {
     "name": "stdout",
     "output_type": "stream",
     "text": [
      "esitmated scorings 6726.28580854677\n",
      ". . k . . . . .\n",
      ". . . . . . . .\n",
      ". . B . . . . p\n",
      ". . n . . . . .\n",
      ". . . p . . . .\n",
      ". . . . . . K .\n",
      ". . . . . . . .\n",
      ". . . . . . . .\n",
      "198\n"
     ]
    }
   ],
   "source": [
    "board.push(bot.move(board))\n",
    "print(board)\n",
    "print(bot.scorer.get_scorings())"
   ]
  },
  {
   "cell_type": "code",
   "execution_count": 11,
   "metadata": {},
   "outputs": [
    {
     "name": "stdout",
     "output_type": "stream",
     "text": [
      "esitmated scorings 7185.307640524374\n",
      ". . . . . . . .\n",
      ". . k . . . . .\n",
      ". . B . . . . p\n",
      ". . n . . . . .\n",
      ". . . p . . . .\n",
      ". . . . . . K .\n",
      ". . . . . . . .\n",
      ". . . . . . . .\n",
      "206\n"
     ]
    }
   ],
   "source": [
    "board.push(bot.move(board))\n",
    "print(board)\n",
    "print(bot.scorer.get_scorings())"
   ]
  },
  {
   "cell_type": "code",
   "execution_count": null,
   "metadata": {},
   "outputs": [],
   "source": []
  }
 ],
 "metadata": {
  "kernelspec": {
   "display_name": "Python 3",
   "language": "python",
   "name": "python3"
  },
  "language_info": {
   "codemirror_mode": {
    "name": "ipython",
    "version": 3
   },
   "file_extension": ".py",
   "mimetype": "text/x-python",
   "name": "python",
   "nbconvert_exporter": "python",
   "pygments_lexer": "ipython3",
   "version": "3.6.4"
  }
 },
 "nbformat": 4,
 "nbformat_minor": 2
}
