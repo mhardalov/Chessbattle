{
 "cells": [
  {
   "cell_type": "code",
   "execution_count": 1,
   "metadata": {},
   "outputs": [],
   "source": [
    "from chessbot.botok import ChessBotOK\n",
    "import chess"
   ]
  },
  {
   "cell_type": "code",
   "execution_count": 2,
   "metadata": {},
   "outputs": [],
   "source": [
    "bot = ChessBotOK(\"ok\", {\"depth\": 2})"
   ]
  },
  {
   "cell_type": "code",
   "execution_count": 3,
   "metadata": {},
   "outputs": [],
   "source": [
    "board = chess.Board()"
   ]
  },
  {
   "cell_type": "code",
   "execution_count": 4,
   "metadata": {
    "scrolled": true
   },
   "outputs": [
    {
     "name": "stdout",
     "output_type": "stream",
     "text": [
      "r n b q k b n r\n",
      "p p p p p p p p\n",
      ". . . . . . . .\n",
      ". . . . . . . .\n",
      ". . . . . . . .\n",
      ". . . P . . . .\n",
      "P P P . P P P P\n",
      "R N B Q K B N R\n"
     ]
    }
   ],
   "source": [
    "board.push(bot.move(board))\n",
    "print(board)"
   ]
  },
  {
   "cell_type": "code",
   "execution_count": 5,
   "metadata": {},
   "outputs": [
    {
     "name": "stdout",
     "output_type": "stream",
     "text": [
      "r n b q k b n r\n",
      "p p p p p . p p\n",
      ". . . . . p . .\n",
      ". . . . . . . .\n",
      ". . . . . . . .\n",
      ". . . P . . . .\n",
      "P P P . P P P P\n",
      "R N B Q K B N R\n"
     ]
    }
   ],
   "source": [
    "board.push(bot.move(board))\n",
    "print(board)"
   ]
  },
  {
   "cell_type": "code",
   "execution_count": 6,
   "metadata": {},
   "outputs": [
    {
     "name": "stdout",
     "output_type": "stream",
     "text": [
      "r n b q k b n r\n",
      "p p p p p . p p\n",
      ". . . . . p . .\n",
      ". . . . . . . .\n",
      ". . . . . B . .\n",
      ". . . P . . . .\n",
      "P P P . P P P P\n",
      "R N . Q K B N R\n"
     ]
    }
   ],
   "source": [
    "board.push(bot.move(board))\n",
    "print(board)"
   ]
  },
  {
   "cell_type": "code",
   "execution_count": 7,
   "metadata": {},
   "outputs": [
    {
     "name": "stdout",
     "output_type": "stream",
     "text": [
      "r n b q k b n r\n",
      ". p p p p . p p\n",
      ". . . . . p . .\n",
      "p . . . . . . .\n",
      ". . . . . B . .\n",
      ". . . P . . . .\n",
      "P P P . P P P P\n",
      "R N . Q K B N R\n"
     ]
    }
   ],
   "source": [
    "board.push(bot.move(board))\n",
    "print(board)"
   ]
  },
  {
   "cell_type": "code",
   "execution_count": 8,
   "metadata": {
    "scrolled": true
   },
   "outputs": [
    {
     "name": "stdout",
     "output_type": "stream",
     "text": [
      "r n b q k b n r\n",
      ". p p p p . p p\n",
      ". . . . . p . .\n",
      "p . . . . . . .\n",
      ". . . . . B . .\n",
      ". . P P . . . .\n",
      "P P . . P P P P\n",
      "R N . Q K B N R\n"
     ]
    }
   ],
   "source": [
    "board.push(bot.move(board))\n",
    "print(board)"
   ]
  },
  {
   "cell_type": "code",
   "execution_count": 9,
   "metadata": {},
   "outputs": [
    {
     "name": "stdout",
     "output_type": "stream",
     "text": [
      "r n b q k b n r\n",
      ". p p p . . p p\n",
      ". . . . . p . .\n",
      "p . . . p . . .\n",
      ". . . . . B . .\n",
      ". . P P . . . .\n",
      "P P . . P P P P\n",
      "R N . Q K B N R\n"
     ]
    }
   ],
   "source": [
    "board.push(bot.move(board))\n",
    "print(board)"
   ]
  },
  {
   "cell_type": "code",
   "execution_count": null,
   "metadata": {},
   "outputs": [],
   "source": []
  }
 ],
 "metadata": {
  "kernelspec": {
   "display_name": "Python 3",
   "language": "python",
   "name": "python3"
  },
  "language_info": {
   "codemirror_mode": {
    "name": "ipython",
    "version": 3
   },
   "file_extension": ".py",
   "mimetype": "text/x-python",
   "name": "python",
   "nbconvert_exporter": "python",
   "pygments_lexer": "ipython3",
   "version": "3.6.5"
  }
 },
 "nbformat": 4,
 "nbformat_minor": 2
}
